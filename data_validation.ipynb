{
 "cells": [
  {
   "cell_type": "code",
   "execution_count": 1,
   "id": "4ff3258c",
   "metadata": {},
   "outputs": [],
   "source": [
    "import pandas as pd \n",
    "from sqlalchemy import create_engine\n",
    "from dotenv import load_dotenv\n",
    "import os\n",
    "\n",
    "# Load environment variables from .env file\n",
    "load_dotenv()\n",
    "\n",
    "# Get credentials from environment variables\n",
    "db_user = os.getenv(\"db_user\")\n",
    "db_password = os.getenv(\"db_password\")\n",
    "db_host = os.getenv(\"db_host\")\n",
    "db_name = os.getenv(\"db_name\")\n",
    "\n",
    "# Create the database engine\n",
    "engine = create_engine(f'mysql+mysqlconnector://{db_user}:{db_password}@{db_host}/{db_name}')"
   ]
  },
  {
   "cell_type": "code",
   "execution_count": 5,
   "id": "9adf73e1",
   "metadata": {},
   "outputs": [
    {
     "name": "stdout",
     "output_type": "stream",
     "text": [
      "Customers NULL check:\n",
      "    null_count\n",
      "0           0\n"
     ]
    }
   ],
   "source": [
    "# Check for NULL values in 'customers' table\n",
    "customers_null_check = pd.read_sql(\"\"\"\n",
    "    SELECT COUNT(*) AS null_count\n",
    "    FROM customers\n",
    "    WHERE customer_id IS NULL OR name IS NULL OR email IS NULL OR phone IS NULL\n",
    "\"\"\", engine)\n",
    "print(\"Customers NULL check:\\n\", customers_null_check)"
   ]
  },
  {
   "cell_type": "code",
   "execution_count": 6,
   "id": "c033e6bb",
   "metadata": {},
   "outputs": [
    {
     "name": "stdout",
     "output_type": "stream",
     "text": [
      "Orders NULL check:\n",
      "    null_count\n",
      "0           0\n"
     ]
    }
   ],
   "source": [
    "# Check for NULL values in 'orders' table\n",
    "orders_null_check = pd.read_sql(\"\"\"\n",
    "    SELECT COUNT(*) AS null_count\n",
    "    FROM orders\n",
    "    WHERE order_id IS NULL OR customer_id IS NULL OR order_date IS NULL OR order_status IS NULL\n",
    "\"\"\", engine)\n",
    "print(\"Orders NULL check:\\n\", orders_null_check)"
   ]
  },
  {
   "cell_type": "code",
   "execution_count": 7,
   "id": "4bdaca89",
   "metadata": {},
   "outputs": [
    {
     "name": "stdout",
     "output_type": "stream",
     "text": [
      "Order Items NULL check:\n",
      "    null_count\n",
      "0           0\n"
     ]
    }
   ],
   "source": [
    "# Check for NULL values in 'order_items' table\n",
    "order_items_null_check = pd.read_sql(\"\"\"\n",
    "    SELECT COUNT(*) AS null_count\n",
    "    FROM order_items\n",
    "    WHERE order_item_id IS NULL OR order_id IS NULL OR product_id IS NULL OR quantity IS NULL\n",
    "\"\"\", engine)\n",
    "print(\"Order Items NULL check:\\n\", order_items_null_check)"
   ]
  },
  {
   "cell_type": "code",
   "execution_count": 8,
   "id": "b31dd296",
   "metadata": {},
   "outputs": [
    {
     "name": "stdout",
     "output_type": "stream",
     "text": [
      "Duplicate customers check:\n",
      " Empty DataFrame\n",
      "Columns: [customer_id, duplicate_count]\n",
      "Index: []\n"
     ]
    }
   ],
   "source": [
    "# Check for duplicate customers based on 'customer_id'\n",
    "customers_duplicates_check = pd.read_sql(\"\"\"\n",
    "    SELECT customer_id, COUNT(*) AS duplicate_count\n",
    "    FROM customers\n",
    "    GROUP BY customer_id\n",
    "    HAVING duplicate_count > 1\n",
    "\"\"\", engine)\n",
    "print(\"Duplicate customers check:\\n\", customers_duplicates_check)"
   ]
  },
  {
   "cell_type": "code",
   "execution_count": 9,
   "id": "8fd4cc59",
   "metadata": {},
   "outputs": [
    {
     "name": "stdout",
     "output_type": "stream",
     "text": [
      "Duplicate orders check:\n",
      " Empty DataFrame\n",
      "Columns: [order_id, duplicate_count]\n",
      "Index: []\n"
     ]
    }
   ],
   "source": [
    "# Check for duplicate orders based on 'order_id'\n",
    "orders_duplicates_check = pd.read_sql(\"\"\"\n",
    "    SELECT order_id, COUNT(*) AS duplicate_count\n",
    "    FROM orders\n",
    "    GROUP BY order_id\n",
    "    HAVING duplicate_count > 1\n",
    "\"\"\", engine)\n",
    "print(\"Duplicate orders check:\\n\", orders_duplicates_check)"
   ]
  },
  {
   "cell_type": "code",
   "execution_count": 10,
   "id": "a110f2f0",
   "metadata": {},
   "outputs": [
    {
     "name": "stdout",
     "output_type": "stream",
     "text": [
      "Duplicate order items check:\n",
      " Empty DataFrame\n",
      "Columns: [order_item_id, duplicate_count]\n",
      "Index: []\n"
     ]
    }
   ],
   "source": [
    "# Check for duplicate order items based on 'order_item_id'\n",
    "order_items_duplicates_check = pd.read_sql(\"\"\"\n",
    "    SELECT order_item_id, COUNT(*) AS duplicate_count\n",
    "    FROM order_items\n",
    "    GROUP BY order_item_id\n",
    "    HAVING duplicate_count > 1\n",
    "\"\"\", engine)\n",
    "print(\"Duplicate order items check:\\n\", order_items_duplicates_check)"
   ]
  },
  {
   "cell_type": "code",
   "execution_count": 11,
   "id": "8281a543",
   "metadata": {},
   "outputs": [
    {
     "name": "stdout",
     "output_type": "stream",
     "text": [
      "Invalid order references in order items:\n",
      " Empty DataFrame\n",
      "Columns: [order_id]\n",
      "Index: []\n"
     ]
    }
   ],
   "source": [
    "# Check if all order items reference valid orders\n",
    "valid_order_items_check = pd.read_sql(\"\"\"\n",
    "    SELECT oi.order_id\n",
    "    FROM order_items oi\n",
    "    LEFT JOIN orders o ON oi.order_id = o.order_id\n",
    "    WHERE o.order_id IS NULL\n",
    "\"\"\", engine)\n",
    "print(\"Invalid order references in order items:\\n\", valid_order_items_check)"
   ]
  },
  {
   "cell_type": "code",
   "execution_count": 12,
   "id": "7a7e61c8",
   "metadata": {},
   "outputs": [
    {
     "name": "stdout",
     "output_type": "stream",
     "text": [
      "Invalid product references in order items:\n",
      " Empty DataFrame\n",
      "Columns: [product_id]\n",
      "Index: []\n"
     ]
    }
   ],
   "source": [
    "# Check if all order items reference valid products\n",
    "valid_order_items_product_check = pd.read_sql(\"\"\"\n",
    "    SELECT oi.product_id\n",
    "    FROM order_items oi\n",
    "    LEFT JOIN products p ON oi.product_id = p.product_id\n",
    "    WHERE p.product_id IS NULL\n",
    "\"\"\", engine)\n",
    "print(\"Invalid product references in order items:\\n\", valid_order_items_product_check)"
   ]
  },
  {
   "cell_type": "code",
   "execution_count": 13,
   "id": "05a93aca",
   "metadata": {},
   "outputs": [
    {
     "name": "stdout",
     "output_type": "stream",
     "text": [
      "Invalid customer references in orders:\n",
      " Empty DataFrame\n",
      "Columns: [order_id]\n",
      "Index: []\n"
     ]
    }
   ],
   "source": [
    "# Check if all orders reference valid customers\n",
    "valid_orders_check = pd.read_sql(\"\"\"\n",
    "    SELECT o.order_id\n",
    "    FROM orders o\n",
    "    LEFT JOIN customers c ON o.customer_id = c.customer_id\n",
    "    WHERE c.customer_id IS NULL\n",
    "\"\"\", engine)\n",
    "print(\"Invalid customer references in orders:\\n\", valid_orders_check)"
   ]
  },
  {
   "cell_type": "code",
   "execution_count": 14,
   "id": "f7c0ec5c",
   "metadata": {},
   "outputs": [
    {
     "name": "stdout",
     "output_type": "stream",
     "text": [
      "Invalid shipper references in orders:\n",
      " Empty DataFrame\n",
      "Columns: [order_id]\n",
      "Index: []\n"
     ]
    }
   ],
   "source": [
    "# Check if all orders reference valid shippers\n",
    "valid_orders_shipper_check = pd.read_sql(\"\"\"\n",
    "    SELECT o.order_id\n",
    "    FROM orders o\n",
    "    LEFT JOIN shippers s ON o.shipper_name = s.shipper_name\n",
    "    WHERE s.shipper_name IS NULL\n",
    "\"\"\", engine)\n",
    "print(\"Invalid shipper references in orders:\\n\", valid_orders_shipper_check)"
   ]
  },
  {
   "cell_type": "code",
   "execution_count": 15,
   "id": "06211f14",
   "metadata": {},
   "outputs": [
    {
     "name": "stdout",
     "output_type": "stream",
     "text": [
      "Invalid product prices:\n",
      " Empty DataFrame\n",
      "Columns: [product_id, product_name, price]\n",
      "Index: []\n"
     ]
    }
   ],
   "source": [
    "# Check for negative values in prices (products table)\n",
    "invalid_product_prices = pd.read_sql(\"\"\"\n",
    "    SELECT product_id, product_name, price\n",
    "    FROM products\n",
    "    WHERE price < 0\n",
    "\"\"\", engine)\n",
    "print(\"Invalid product prices:\\n\", invalid_product_prices)"
   ]
  },
  {
   "cell_type": "code",
   "execution_count": 16,
   "id": "58b17a58",
   "metadata": {},
   "outputs": [
    {
     "name": "stdout",
     "output_type": "stream",
     "text": [
      "Invalid order amounts:\n",
      " Empty DataFrame\n",
      "Columns: [order_id, order_amount]\n",
      "Index: []\n"
     ]
    }
   ],
   "source": [
    "# Check for negative values in order amounts (orders table)\n",
    "invalid_order_amounts = pd.read_sql(\"\"\"\n",
    "    SELECT order_id, order_amount\n",
    "    FROM orders\n",
    "    WHERE order_amount < 0\n",
    "\"\"\", engine)\n",
    "print(\"Invalid order amounts:\\n\", invalid_order_amounts)"
   ]
  },
  {
   "cell_type": "code",
   "execution_count": 17,
   "id": "7f0e9382",
   "metadata": {},
   "outputs": [
    {
     "name": "stdout",
     "output_type": "stream",
     "text": [
      "Invalid order items quantities:\n",
      " Empty DataFrame\n",
      "Columns: [order_item_id, quantity]\n",
      "Index: []\n"
     ]
    }
   ],
   "source": [
    "# Check for negative values in order items (quantity)\n",
    "invalid_order_items_quantity = pd.read_sql(\"\"\"\n",
    "    SELECT order_item_id, quantity\n",
    "    FROM order_items\n",
    "    WHERE quantity < 0\n",
    "\"\"\", engine)\n",
    "print(\"Invalid order items quantities:\\n\", invalid_order_items_quantity)"
   ]
  },
  {
   "cell_type": "code",
   "execution_count": 18,
   "id": "32f96f74",
   "metadata": {},
   "outputs": [
    {
     "name": "stdout",
     "output_type": "stream",
     "text": [
      "Invalid order status values:\n",
      " Empty DataFrame\n",
      "Columns: [order_id, order_status]\n",
      "Index: []\n"
     ]
    }
   ],
   "source": [
    "# Check for invalid values in order status (orders table)\n",
    "invalid_order_status = pd.read_sql(\"\"\"\n",
    "    SELECT order_id, order_status\n",
    "    FROM orders\n",
    "    WHERE order_status NOT IN ('Pending', 'Shipped', 'Delivered', 'Cancelled', 'Returned')\n",
    "\"\"\", engine)\n",
    "print(\"Invalid order status values:\\n\", invalid_order_status)"
   ]
  },
  {
   "cell_type": "code",
   "execution_count": 19,
   "id": "aa4e074e",
   "metadata": {},
   "outputs": [
    {
     "name": "stdout",
     "output_type": "stream",
     "text": [
      "Invalid payment method values:\n",
      " Empty DataFrame\n",
      "Columns: [payment_id, payment_method]\n",
      "Index: []\n"
     ]
    }
   ],
   "source": [
    "# Check for invalid values in payment method (payments table)\n",
    "invalid_payment_method = pd.read_sql(\"\"\"\n",
    "    SELECT payment_id, payment_method\n",
    "    FROM payments\n",
    "    WHERE payment_method NOT IN ('Credit Card', 'PayPal', 'Bank Transfer', 'Mobile Money')\n",
    "\"\"\", engine)\n",
    "print(\"Invalid payment method values:\\n\", invalid_payment_method)"
   ]
  },
  {
   "cell_type": "code",
   "execution_count": 20,
   "id": "41cc0322",
   "metadata": {},
   "outputs": [
    {
     "name": "stdout",
     "output_type": "stream",
     "text": [
      "Invalid payment status values:\n",
      " Empty DataFrame\n",
      "Columns: [payment_id, payment_status]\n",
      "Index: []\n"
     ]
    }
   ],
   "source": [
    "# Check for invalid values in payment status (payments table)\n",
    "invalid_payment_status = pd.read_sql(\"\"\"\n",
    "    SELECT payment_id, payment_status\n",
    "    FROM payments\n",
    "    WHERE payment_status NOT IN ('Completed', 'Pending', 'Failed')\n",
    "\"\"\", engine)\n",
    "print(\"Invalid payment status values:\\n\", invalid_payment_status)"
   ]
  }
 ],
 "metadata": {
  "kernelspec": {
   "display_name": "Python 3",
   "language": "python",
   "name": "python3"
  },
  "language_info": {
   "codemirror_mode": {
    "name": "ipython",
    "version": 3
   },
   "file_extension": ".py",
   "mimetype": "text/x-python",
   "name": "python",
   "nbconvert_exporter": "python",
   "pygments_lexer": "ipython3",
   "version": "3.12.7"
  }
 },
 "nbformat": 4,
 "nbformat_minor": 5
}
